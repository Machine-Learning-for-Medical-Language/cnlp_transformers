{
 "cells": [
  {
   "cell_type": "markdown",
   "id": "c16d40fd",
   "metadata": {},
   "source": [
    "# BertViz for clinical negation"
   ]
  },
  {
   "cell_type": "code",
   "execution_count": null,
   "id": "b916c6d9",
   "metadata": {},
   "outputs": [],
   "source": [
    "from bertviz import model_view\n",
    "from transformers import (\n",
    "    AutoConfig,\n",
    "    AutoTokenizer,\n",
    "    HfArgumentParser,\n",
    "    Trainer,\n",
    "    TrainingArguments,\n",
    ")\n",
    "\n",
    "from cnlpt.CnlpModelForClassification import CnlpModelForClassification"
   ]
  },
  {
   "cell_type": "code",
   "execution_count": null,
   "id": "f0379b43",
   "metadata": {},
   "outputs": [],
   "source": [
    "model_name = \"tmills/cnlpt-negation-roberta-sharpseed\"\n",
    "labels = [\"-1\", \"1\"]\n",
    "max_length = 128\n",
    "args = [\n",
    "    \"--output_dir\",\n",
    "    \"bv_negation_out/\",\n",
    "    \"--per_device_eval_batch_size\",\n",
    "    \"128\",\n",
    "    \"--do_predict\",\n",
    "    \"--seed\",\n",
    "    \"42\",\n",
    "    \"--report_to\",\n",
    "    \"none\",\n",
    "]\n",
    "parser = HfArgumentParser((TrainingArguments,))\n",
    "(training_args,) = parser.parse_args_into_dataclasses(args=args)"
   ]
  },
  {
   "cell_type": "code",
   "execution_count": null,
   "id": "481a88ef",
   "metadata": {},
   "outputs": [],
   "source": [
    "import torch\n",
    "import torch.backends.mps\n",
    "\n",
    "device = (\n",
    "    \"cuda\"\n",
    "    if torch.cuda.is_available()\n",
    "    else \"mps\"\n",
    "    if torch.backends.mps.is_available()\n",
    "    else \"cpu\"\n",
    ")\n",
    "\n",
    "config = AutoConfig.from_pretrained(model_name)\n",
    "tokenizer = AutoTokenizer.from_pretrained(model_name, config=config)\n",
    "model = CnlpModelForClassification.from_pretrained(model_name, config=config)\n",
    "model.to(device)\n",
    "trainer = Trainer(model=model, args=training_args, compute_metrics=None)"
   ]
  },
  {
   "cell_type": "code",
   "execution_count": null,
   "id": "3ff1975a",
   "metadata": {},
   "outputs": [],
   "source": [
    "model_type = \"roberta\"\n",
    "\n",
    "sentence_a = \"The patient complains of dizziness and nausea but has no <e>pain</e> and denies anorexia.\"\n",
    "sentence_b = \"\"\n",
    "\n",
    "inputs = tokenizer.encode(sentence_a, return_tensors=\"pt\")"
   ]
  },
  {
   "cell_type": "code",
   "execution_count": null,
   "id": "2ff767e6",
   "metadata": {},
   "outputs": [],
   "source": [
    "print(inputs)\n",
    "outputs = model(inputs.to(device), output_attentions=True)"
   ]
  },
  {
   "cell_type": "code",
   "execution_count": null,
   "id": "ad3c6595",
   "metadata": {},
   "outputs": [],
   "source": [
    "print(len(outputs))\n",
    "attention = outputs[-1]  # Output includes attention weights when output_attentions=True"
   ]
  },
  {
   "cell_type": "code",
   "execution_count": null,
   "id": "ae79ec02",
   "metadata": {},
   "outputs": [],
   "source": [
    "tokens = tokenizer.convert_ids_to_tokens(inputs[0])"
   ]
  },
  {
   "cell_type": "code",
   "execution_count": null,
   "id": "5b0c9f7a",
   "metadata": {
    "scrolled": true
   },
   "outputs": [],
   "source": [
    "# print(attention.shape)\n",
    "print(tokens)\n",
    "model_view(attention, tokens)"
   ]
  },
  {
   "cell_type": "code",
   "execution_count": null,
   "id": "eba7a0e9",
   "metadata": {},
   "outputs": [],
   "source": [
    "from bertviz import head_view\n",
    "\n",
    "head_view(attention, tokens)"
   ]
  },
  {
   "cell_type": "code",
   "execution_count": null,
   "id": "f42b5199-0722-4240-aedb-499814e09187",
   "metadata": {},
   "outputs": [],
   "source": [
    "from bertviz import model_view\n",
    "\n",
    "model_view(attention, tokens)"
   ]
  },
  {
   "cell_type": "code",
   "execution_count": null,
   "id": "b57016ae-b593-4ead-becc-938d208c7071",
   "metadata": {},
   "outputs": [],
   "source": []
  }
 ],
 "metadata": {
  "kernelspec": {
   "display_name": ".venv",
   "language": "python",
   "name": "python3"
  },
  "language_info": {
   "codemirror_mode": {
    "name": "ipython",
    "version": 3
   },
   "file_extension": ".py",
   "mimetype": "text/x-python",
   "name": "python",
   "nbconvert_exporter": "python",
   "pygments_lexer": "ipython3",
   "version": "3.11.10"
  }
 },
 "nbformat": 4,
 "nbformat_minor": 5
}
