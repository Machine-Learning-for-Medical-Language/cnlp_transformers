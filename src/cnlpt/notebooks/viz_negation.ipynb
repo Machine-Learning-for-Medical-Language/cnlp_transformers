{
 "cells": [
  {
   "cell_type": "markdown",
   "id": "c16d40fd",
   "metadata": {},
   "source": [
    "# BertViz for clinical negation"
   ]
  },
  {
   "cell_type": "code",
   "execution_count": null,
   "id": "b916c6d9",
   "metadata": {},
   "outputs": [],
   "source": [
    "\n",
    "from bertviz import model_view\n",
    "from cnlpt.CnlpModelForClassification import CnlpConfig, CnlpModelForClassification\n",
    "from transformers import (\n",
    "    AutoConfig,\n",
    "    AutoModelForSequenceClassification,\n",
    "    AutoTokenizer,\n",
    "    AutoModel,\n",
    "    HfArgumentParser,\n",
    "    Trainer,\n",
    "    TrainingArguments,\n",
    ")"
   ]
  },
  {
   "cell_type": "code",
   "execution_count": null,
   "id": "f0379b43",
   "metadata": {},
   "outputs": [],
   "source": [
    "model_name = \"tmills/cnlpt-negation-roberta-sharpseed\"\n",
    "labels = [\"-1\", \"1\"]\n",
    "max_length = 128\n",
    "args = ['--output_dir', 'bv_negation_out/', '--per_device_eval_batch_size', '128', '--do_predict', '--seed', '42', '--report_to', 'none']\n",
    "parser = HfArgumentParser((TrainingArguments,))\n",
    "training_args, = parser.parse_args_into_dataclasses(args=args)\n",
    "\n"
   ]
  },
  {
   "cell_type": "code",
   "execution_count": null,
   "id": "481a88ef",
   "metadata": {},
   "outputs": [],
   "source": [
    "AutoConfig.register(\"cnlpt\", CnlpConfig)\n",
    "AutoModel.register(CnlpConfig, CnlpModelForClassification)\n",
    "\n",
    "config = AutoConfig.from_pretrained(model_name)\n",
    "tokenizer = AutoTokenizer.from_pretrained(model_name, config=config)\n",
    "model = CnlpModelForClassification.from_pretrained(model_name, config=config)\n",
    "model.to('cuda')\n",
    "trainer = Trainer(model=model, args=training_args, compute_metrics=None)"
   ]
  },
  {
   "cell_type": "code",
   "execution_count": null,
   "id": "3ff1975a",
   "metadata": {},
   "outputs": [],
   "source": [
    "model_type = 'roberta'\n",
    "\n",
    "sentence_a = \"The patient complains of dizziness and nausea but has no <e>pain</e> and denies anorexia.\"\n",
    "sentence_b = ''\n",
    "\n",
    "inputs = tokenizer.encode(sentence_a, return_tensors='pt')"
   ]
  },
  {
   "cell_type": "code",
   "execution_count": null,
   "id": "2ff767e6",
   "metadata": {},
   "outputs": [],
   "source": [
    "print(inputs)\n",
    "outputs = model(inputs.to('cuda'), output_attentions=True)"
   ]
  },
  {
   "cell_type": "code",
   "execution_count": null,
   "id": "ad3c6595",
   "metadata": {},
   "outputs": [],
   "source": [
    "print(len(outputs))\n",
    "attention = outputs[-1]  # Output includes attention weights when output_attentions=True"
   ]
  },
  {
   "cell_type": "code",
   "execution_count": null,
   "id": "ae79ec02",
   "metadata": {},
   "outputs": [],
   "source": [
    "tokens = tokenizer.convert_ids_to_tokens(inputs[0])"
   ]
  },
  {
   "cell_type": "code",
   "execution_count": null,
   "id": "5b0c9f7a",
   "metadata": {
    "scrolled": true
   },
   "outputs": [],
   "source": [
    "#print(attention.shape)\n",
    "print(tokens)\n",
    "model_view(attention, tokens)"
   ]
  },
  {
   "cell_type": "code",
   "execution_count": null,
   "id": "eba7a0e9",
   "metadata": {},
   "outputs": [],
   "source": [
    "from bertviz import head_view\n",
    "head_view(attention, tokens)"
   ]
  },
  {
   "cell_type": "code",
   "execution_count": null,
   "id": "f42b5199-0722-4240-aedb-499814e09187",
   "metadata": {},
   "outputs": [],
   "source": [
    "from bertviz import model_view\n",
    "model_view(attention, tokens)"
   ]
  },
  {
   "cell_type": "code",
   "execution_count": null,
   "id": "b57016ae-b593-4ead-becc-938d208c7071",
   "metadata": {},
   "outputs": [],
   "source": []
  }
 ],
 "metadata": {
  "kernelspec": {
   "display_name": "Python 3 (ipykernel)",
   "language": "python",
   "name": "python3"
  },
  "language_info": {
   "codemirror_mode": {
    "name": "ipython",
    "version": 3
   },
   "file_extension": ".py",
   "mimetype": "text/x-python",
   "name": "python",
   "nbconvert_exporter": "python",
   "pygments_lexer": "ipython3",
   "version": "3.8.12"
  }
 },
 "nbformat": 4,
 "nbformat_minor": 5
}
