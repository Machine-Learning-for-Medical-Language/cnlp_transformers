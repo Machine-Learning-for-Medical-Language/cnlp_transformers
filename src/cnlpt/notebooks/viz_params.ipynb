{
 "cells": [
  {
   "cell_type": "code",
   "execution_count": null,
   "id": "ee4cb55c-63fe-42de-b2a7-a77209620928",
   "metadata": {},
   "outputs": [],
   "source": [
    "import matplotlib.pyplot as plt\n",
    "import numpy as np\n",
    "\n",
    "%matplotlib inline"
   ]
  },
  {
   "cell_type": "code",
   "execution_count": null,
   "id": "3f8333e3-f3d5-463d-a45f-71ceb8e73641",
   "metadata": {},
   "outputs": [],
   "source": [
    "model_name1 = \"microsoft/xtremedistil-l6-h256-uncased\"\n",
    "model_name2 = \"tmills/tiny-dtr\""
   ]
  },
  {
   "cell_type": "code",
   "execution_count": null,
   "id": "d732ec7a-0ca8-4e4d-a8b3-175eb4281936",
   "metadata": {},
   "outputs": [],
   "source": [
    "from transformers import AutoConfig, AutoModel\n",
    "\n",
    "from cnlpt.CnlpModelForClassification import CnlpModelForClassification\n",
    "\n",
    "# from cnlpt.CnlpModelForClassification import CnlpConfig"
   ]
  },
  {
   "cell_type": "code",
   "execution_count": null,
   "id": "b7b778ac-9f56-4cb3-9329-74c6b7c42277",
   "metadata": {},
   "outputs": [],
   "source": [
    "def get_encoder_for_name(model_name: str):\n",
    "    config = AutoConfig.from_pretrained(model_name)\n",
    "    if \"CnlpModelForClassification\" in config.architectures:\n",
    "        model = CnlpModelForClassification.from_pretrained(model_name, config=config)\n",
    "        model = model.encoder\n",
    "    else:\n",
    "        model = AutoModel.from_pretrained(model_name, config=config)\n",
    "\n",
    "    return model"
   ]
  },
  {
   "cell_type": "code",
   "execution_count": null,
   "id": "69d19609-74da-4088-a8df-5eaa0f287bf4",
   "metadata": {},
   "outputs": [],
   "source": [
    "def plot_hist(values, num_bins):\n",
    "    hist, bins = np.histogram(values, bins=num_bins)\n",
    "    width = 0.7 * (bins[1] - bins[0])\n",
    "    center = (bins[:-1] + bins[1:]) / 2\n",
    "    plt.bar(center, hist, align=\"center\", width=width)"
   ]
  },
  {
   "cell_type": "code",
   "execution_count": null,
   "id": "73d4487c-f66d-419a-ad99-fb983a47b300",
   "metadata": {},
   "outputs": [],
   "source": [
    "model1 = get_encoder_for_name(model_name1)\n",
    "model2 = get_encoder_for_name(model_name2)\n",
    "print(model1.num_parameters())\n",
    "print(model2.num_parameters())"
   ]
  },
  {
   "cell_type": "code",
   "execution_count": null,
   "id": "a592751e-2bcc-4da5-bc31-0583bf5d2bbf",
   "metadata": {},
   "outputs": [],
   "source": [
    "def get_param_dict(model):\n",
    "    params = {}\n",
    "    param_names = []\n",
    "    for param in model.named_parameters():\n",
    "        params[param[0]] = param[1]\n",
    "        param_names.append(param[0])\n",
    "    param_names.sort()\n",
    "\n",
    "    return params, param_names"
   ]
  },
  {
   "cell_type": "code",
   "execution_count": null,
   "id": "a93c8ea1-20cb-4ac4-a1c9-9ba7f2e36c2d",
   "metadata": {},
   "outputs": [],
   "source": [
    "model1_params, model1_param_names = get_param_dict(model1)\n",
    "model2_params, model2_param_names = get_param_dict(model2)\n",
    "\n",
    "common_param_names = list(set(model1_param_names).intersection(set(model2_param_names)))\n",
    "common_param_names.sort()\n",
    "print(\"%d common parameter names\" % (len(common_param_names)))"
   ]
  },
  {
   "cell_type": "code",
   "execution_count": null,
   "id": "d972dde4-09a4-4aa1-a463-ffd801cab39d",
   "metadata": {},
   "outputs": [],
   "source": [
    "s1 = model1_params[\"embeddings.word_embeddings.weight\"]\n",
    "s2 = model2_params[\"embeddings.word_embeddings.weight\"]\n",
    "print(s1.shape)\n",
    "print(s2.shape)\n",
    "print(s1.ndim)\n",
    "print(s1.detach().numpy().flatten())"
   ]
  },
  {
   "cell_type": "code",
   "execution_count": null,
   "id": "68ff6306-d8d4-433e-beba-53f86d7f0459",
   "metadata": {},
   "outputs": [],
   "source": [
    "m1_params = []\n",
    "m2_params = []\n",
    "param_diffs = []\n",
    "param_pct_diffs = []\n",
    "param_to_start_ind = {}\n",
    "\n",
    "for param_name in common_param_names:\n",
    "    param_to_start_ind[param_name] = len(param_diffs)\n",
    "    # print(\"Processing param %s\" % (param_name))\n",
    "    m1v = model1_params[param_name]\n",
    "    m2v = model2_params[param_name]\n",
    "    if m1v.ndim == 2:\n",
    "        d1 = min(m1v.shape[0], m2v.shape[0])\n",
    "        m1_flat = m1v[:d1, :].detach().numpy().flatten()\n",
    "        m2_flat = m2v[:d1, :].detach().numpy().flatten()\n",
    "    else:\n",
    "        m1_flat = m1v.detach().numpy().flatten()\n",
    "        m2_flat = m2v.detach().numpy().flatten()\n",
    "\n",
    "    m1_params.extend(m1_flat)\n",
    "    m2_params.extend(m2_flat)\n",
    "    param_diffs.extend(np.abs(m1_flat - m2_flat))\n",
    "    param_pct_diffs.extend(\n",
    "        np.abs(m1_flat - m2_flat) / np.abs(m1_flat + np.finfo(float).eps)\n",
    "    )\n",
    "\n",
    "print(len(param_diffs))"
   ]
  },
  {
   "cell_type": "code",
   "execution_count": null,
   "id": "a120392f-8aca-489f-aef9-6f5ef809a742",
   "metadata": {},
   "outputs": [],
   "source": [
    "def get_param_fam_for_ind(ind):\n",
    "    last_param_name = \"\"\n",
    "\n",
    "    for param_name in common_param_names:\n",
    "        param_start_ind = param_to_start_ind[param_name]\n",
    "        if ind < param_start_ind:\n",
    "            return last_param_name\n",
    "\n",
    "        last_param_name = param_name\n",
    "\n",
    "    return \"Param not found\""
   ]
  },
  {
   "cell_type": "markdown",
   "id": "a2e4b6c6-2e1e-43aa-b257-663178f12a8e",
   "metadata": {},
   "source": [
    "## Histogram: Are changes in weights distributed normally or as a power law? (or something else?)"
   ]
  },
  {
   "cell_type": "code",
   "execution_count": null,
   "id": "4e689dd6-0578-43f1-8b4e-85a50ef7ffed",
   "metadata": {},
   "outputs": [],
   "source": [
    "plot_hist(param_diffs, num_bins=20)\n",
    "plt.show()"
   ]
  },
  {
   "cell_type": "markdown",
   "id": "07cf843f-a787-4c56-8a39-0a751d8f55ab",
   "metadata": {},
   "source": [
    "## Histogram: how much are weights changing by percentage over initialized value?"
   ]
  },
  {
   "cell_type": "code",
   "execution_count": null,
   "id": "79ff9e71-5b68-490f-840e-31f2cd989498",
   "metadata": {},
   "outputs": [],
   "source": [
    "# param_pct_diffs\n",
    "num_bins = 20\n",
    "plot_hist(param_pct_diffs, num_bins)\n",
    "plt.yscale(\"log\")\n",
    "plt.show()\n",
    "# plt.hist(param_pct_diffs, 20)"
   ]
  },
  {
   "cell_type": "code",
   "execution_count": null,
   "id": "a0bd7627-07cf-4652-be49-e95d1dde0a93",
   "metadata": {},
   "outputs": [],
   "source": [
    "print(param_diffs[:10])\n",
    "print(param_pct_diffs[:10])\n",
    "print(min(param_pct_diffs))"
   ]
  },
  {
   "cell_type": "code",
   "execution_count": null,
   "id": "3cc1aabb-6429-4e43-958a-473c8cd87e69",
   "metadata": {},
   "outputs": [],
   "source": [
    "num_to_check = 30\n",
    "\n",
    "print(m1_params[:num_to_check])\n",
    "print(m2_params[:num_to_check])\n",
    "print(param_diffs[:num_to_check])\n",
    "print(param_pct_diffs[:num_to_check])"
   ]
  },
  {
   "cell_type": "code",
   "execution_count": null,
   "id": "c11add4d-0184-4069-9c1d-4c9d70590998",
   "metadata": {},
   "outputs": [],
   "source": [
    "num = 24\n",
    "\n",
    "print(m1_params[num])\n",
    "print(m2_params[num])\n",
    "print(param_pct_diffs[num])"
   ]
  },
  {
   "cell_type": "code",
   "execution_count": null,
   "id": "d15ae640-1889-461d-a775-1cbe42ca7970",
   "metadata": {},
   "outputs": [],
   "source": [
    "rank_inds = np.argsort(param_pct_diffs)"
   ]
  },
  {
   "cell_type": "code",
   "execution_count": null,
   "id": "947c7cf6-3863-4035-8ccc-e8e1e9051c2c",
   "metadata": {},
   "outputs": [],
   "source": [
    "print(len(rank_inds))"
   ]
  },
  {
   "cell_type": "markdown",
   "id": "70fad694-1308-4b90-8b36-3b79147fb88e",
   "metadata": {},
   "source": [
    "## Where in the encoder are the biggest changes to the parameters?"
   ]
  },
  {
   "cell_type": "code",
   "execution_count": null,
   "id": "2de52f70-8ba4-4324-82d2-7da9a1e67427",
   "metadata": {},
   "outputs": [],
   "source": [
    "nz_start = 257\n",
    "num_to_check = 100\n",
    "\n",
    "for rank_ind in range(nz_start, nz_start + num_to_check):\n",
    "    p_ind = rank_inds[-rank_ind]\n",
    "    param_fam = get_param_fam_for_ind(p_ind)\n",
    "    print(f\"{param_pct_diffs[p_ind]:f} : {param_fam}\")"
   ]
  },
  {
   "cell_type": "code",
   "execution_count": null,
   "id": "0d7eb2a0-371d-4d85-b2b2-bf32f521ee62",
   "metadata": {},
   "outputs": [],
   "source": [
    "ind = rank_inds[-257]\n",
    "print(ind)\n",
    "print(m1_params[ind])\n",
    "print(m2_params[ind])\n",
    "print(param_pct_diffs[ind])\n",
    "print(get_param_fam_for_ind(ind))"
   ]
  },
  {
   "cell_type": "markdown",
   "id": "fa208bd7-42ba-4b4e-97bd-86f4f9d0e2a1",
   "metadata": {},
   "source": [
    "## Next step: see how much performance we lose if we only use the 100(0...) largest deltas after fine-tuning\n"
   ]
  },
  {
   "cell_type": "code",
   "execution_count": null,
   "id": "2940511d-0aa2-4e92-932d-06184540b89b",
   "metadata": {},
   "outputs": [],
   "source": []
  }
 ],
 "metadata": {
  "kernelspec": {
   "display_name": "cnlpt kernel",
   "language": "python",
   "name": "cnlpt"
  },
  "language_info": {
   "codemirror_mode": {
    "name": "ipython",
    "version": 3
   },
   "file_extension": ".py",
   "mimetype": "text/x-python",
   "name": "python",
   "nbconvert_exporter": "python",
   "pygments_lexer": "ipython3",
   "version": "3.8.13"
  }
 },
 "nbformat": 4,
 "nbformat_minor": 5
}
